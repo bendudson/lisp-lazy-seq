{
 "cells": [
  {
   "cell_type": "markdown",
   "metadata": {},
   "source": [
    "# Lazy sequences in (a few lines of) Common Lisp\n",
    "\n",
    "> Copyright (C) 2016 F. Peschanski,  CC-BY-SA 3.0\n",
    "\n",
    "The Clojure programming language comes with a versatile *lazy sequence* abstraction, which\n",
    " also exists under other names such as *generators* in e.g. Python, (implicitly) *lazy lists*\n",
    "  in e.g. Haskell, *streams* in e.g. Ocaml, etc.\n",
    "  \n",
    "There is nothing like in the Common Lisp standard, in particular the CL sequences are IMHO less\n",
    " interesting (providing a too restricted kind of polymorphism). \n",
    " \n",
    "In this document I address the following question:\n",
    "\n",
    "  - is it easy to implement such an abstraction in Common Lisp ?\n",
    "  \n",
    "And as it is almost always the case in Common Lisp, the answer is :\n",
    "\n",
    "  - yes it is !\n",
    "\n",
    "And the remaining of this document is the way I would do it.\n",
    "\n",
    "**Disclaimer** : the Lisp code below is not of production quality, and it is by no mean a port of the Clojure code, although I guess there aren't a million ways to implement the lazy sequence abstraction...\n"
   ]
  },
  {
   "cell_type": "markdown",
   "metadata": {},
   "source": [
    "## What is a lazy sequence ?\n",
    "\n",
    "Let's start with the basics. \n",
    "\n",
    "### A mathematical detour\n",
    "\n",
    "According to https://en.wikipedia.org/wiki/Sequence, \n",
    "\n",
    "> a (mathematical) **sequence** is an ordered collection of objects in which repetitions are allowed.\n",
    "\n",
    "Put in other terms, this is an ordered way to encode a *multiset*, and the simplest encoding is to associate\n",
    " to each element of the multiset a natural number giving its \"position\" in the ordering relation. The first element is at position 0, the second at position 1, etc. This gives a functional interpretation of a sequence. In this interpretation a sequence can have a *finite* or *infinite* domain, in which case we say that the sequence is finite or infinite.\n",
    " \n",
    "There is also an inductive definition of a finite sequence, being the *smallest* set composed of either :\n",
    "\n",
    "  - the empty sequence `nil`\n",
    "  \n",
    "  - or a non-empty sequence, `cons`tructed from a `first` element and the `rest` of the sequence.\n",
    "  \n",
    "You then obtained the definition of a `list`, our ubiquitous data structure  (well, its proper, immutable variant) ! The guarantee that the sequence is finite here is that we take the *smallest* set satisfying the rules.\n",
    "\n",
    "But what about *infinite* sequences ?\n",
    "\n",
    "There is indeed a related mathematical definition of an infinite sequence, being the *largest* set composed of\n",
    "\n",
    "  - a `head` elements followed by an infinite `tail` sequence\n",
    "  \n",
    "Note that there is no base case and moreover we consider this time the *largest* set satisfying the unique rule, touching infinity *for real* ! Such definition is said *coinductive* and we will not go any deeper in this very interesting theory (if you're interested, cf. http://www.cs.unibo.it/~sangio/IntroBook.html).\n",
    "\n",
    "Note that it is possible to mix the two definitions, by keeping the empty list and identifying `first` with `head`, and `rest` with `tail`.\n",
    "\n",
    "So our short mathematical *detour* leads to the following Lisp code :"
   ]
  },
  {
   "cell_type": "code",
   "execution_count": 2,
   "metadata": {
    "collapsed": false
   },
   "outputs": [
    {
     "data": {
      "text/plain": [
       "#<STANDARD-GENERIC-FUNCTION CL-JUPYTER-USER::HEAD (0)>"
      ]
     },
     "execution_count": 2,
     "metadata": {},
     "output_type": "execute_result"
    }
   ],
   "source": [
    "(defgeneric head (sequence)\n",
    "    (:documentation \"Taking the head of the `sequence`.\"))"
   ]
  },
  {
   "cell_type": "code",
   "execution_count": 3,
   "metadata": {
    "collapsed": false
   },
   "outputs": [
    {
     "data": {
      "text/plain": [
       "#<STANDARD-GENERIC-FUNCTION CL-JUPYTER-USER::TAIL (0)>"
      ]
     },
     "execution_count": 3,
     "metadata": {},
     "output_type": "execute_result"
    }
   ],
   "source": [
    "(defgeneric tail (sequence)\n",
    "    (:documentation \"Taking the tail of the `sequence`\"))"
   ]
  },
  {
   "cell_type": "markdown",
   "metadata": {},
   "source": [
    "For pragmatic reasons we will also need a helper for printing sequences."
   ]
  },
  {
   "cell_type": "code",
   "execution_count": 1,
   "metadata": {
    "collapsed": false
   },
   "outputs": [
    {
     "data": {
      "text/plain": [
       "#<STANDARD-GENERIC-FUNCTION CL-JUPYTER-USER::PRINT-CELL (0)>"
      ]
     },
     "execution_count": 1,
     "metadata": {},
     "output_type": "execute_result"
    }
   ],
   "source": [
    "(defgeneric print-cell (c out)\n",
    "    (:documentation \"A printer for cells.\"))"
   ]
  },
  {
   "cell_type": "markdown",
   "metadata": {},
   "source": [
    "### Strict vs. lazy sequences\n",
    "\n",
    "Let's go back to computers and programming... In a computer everything's, in a way, is *finite* so the finite/infinite dichotomy is at best a view of the mind. We can perhaps more interestingly talk about *stict* vs. *lazy* sequences. Both are in fact finite, even though it is sometimes useful to consider lazy sequences as \"infinite\" (please *do* mind the double quotes).\n",
    "\n",
    "A **strict sequence** follows the inductive definition above: it is either empty or non-empty providing a head value and a strict tail sequence. A consequence is that all the elements of strict sequences are *computed values*. \n",
    "\n",
    "As long as you abolish `setf`-ing things, we can safely identify strict sequences with *lists*, hence the following Lisp definitions."
   ]
  },
  {
   "cell_type": "code",
   "execution_count": 4,
   "metadata": {
    "collapsed": false
   },
   "outputs": [
    {
     "data": {
      "text/plain": [
       "#<STANDARD-METHOD CL-JUPYTER-USER::HEAD (LIST) {100749BC73}>"
      ]
     },
     "execution_count": 4,
     "metadata": {},
     "output_type": "execute_result"
    }
   ],
   "source": [
    "(defmethod head ((l list))\n",
    "    (first l))"
   ]
  },
  {
   "cell_type": "code",
   "execution_count": 5,
   "metadata": {
    "collapsed": false
   },
   "outputs": [
    {
     "data": {
      "text/plain": [
       "#<STANDARD-METHOD CL-JUPYTER-USER::TAIL (LIST) {10075647C3}>"
      ]
     },
     "execution_count": 5,
     "metadata": {},
     "output_type": "execute_result"
    }
   ],
   "source": [
    "(defmethod tail ((l list))\n",
    "    (rest l))"
   ]
  },
  {
   "cell_type": "code",
   "execution_count": 6,
   "metadata": {
    "collapsed": false
   },
   "outputs": [
    {
     "data": {
      "text/plain": [
       "#<STANDARD-METHOD CL-JUPYTER-USER::PRINT-CELL (LIST T) {10076993D3}>"
      ]
     },
     "execution_count": 6,
     "metadata": {},
     "output_type": "execute_result"
    }
   ],
   "source": [
    "(defmethod print-cell ((l list) out)\n",
    "  (when l\n",
    "    (format out \"~A\" (first l))\n",
    "    (when (rest l)\n",
    "      (format out \" \")\n",
    "      (print-cell (rest l) out))))"
   ]
  },
  {
   "cell_type": "code",
   "execution_count": 7,
   "metadata": {
    "collapsed": false
   },
   "outputs": [
    {
     "data": {
      "text/plain": [
       "1"
      ]
     },
     "execution_count": 7,
     "metadata": {},
     "output_type": "execute_result"
    }
   ],
   "source": [
    "(head '(1 2 3 4 5))"
   ]
  },
  {
   "cell_type": "code",
   "execution_count": 8,
   "metadata": {
    "collapsed": false
   },
   "outputs": [
    {
     "data": {
      "text/plain": [
       "(2 3 4 5)"
      ]
     },
     "execution_count": 8,
     "metadata": {},
     "output_type": "execute_result"
    }
   ],
   "source": [
    "(tail '(1 2 3 4 5))"
   ]
  },
  {
   "cell_type": "code",
   "execution_count": 9,
   "metadata": {
    "collapsed": false
   },
   "outputs": [
    {
     "name": "stdout",
     "output_type": "stream",
     "text": [
      "1 2 3 4 5"
     ]
    },
    {
     "data": {
      "text/plain": [
       "NIL"
      ]
     },
     "execution_count": 9,
     "metadata": {},
     "output_type": "execute_result"
    }
   ],
   "source": [
    "(print-cell '(1 2 3 4 5) *standard-output*)"
   ]
  },
  {
   "cell_type": "markdown",
   "metadata": {},
   "source": [
    "Now, a **lazy sequence** is designed after the coinductive case: we know that it has a head and a tail and since we want to be lazy, we do not want to say *too early* what exactly are the head and tail.  In particular, the head is *not yet* considered a computed value until we need it, and the only thing we know about the tail is that is we need it, then it will *also* be a lazy sequence."
   ]
  },
  {
   "cell_type": "markdown",
   "metadata": {},
   "source": [
    "## Strict sequences in Lisp\n",
    "\n",
    "It is now time to get some actual code supporting the notions discussed above. First, we consider the case of strict sequences. Of course, implementing strict sequences is neither difficult nor increddibly usefull since, as we've seen previously, proper lists serve as quite a good representation of strict sequences. However, I think it is interesting to show the slight modifications involved when going from the strict to the lazy case.\n",
    "\n",
    "According to the *c2* wiki (cf. http://c2.com/cgi/wiki?ConsCell):\n",
    "\n",
    "> ConsCells are the building blocks of lists in LispLanguages. \n",
    "\n",
    "Our version of a cons cell structure for strict sequences is as follows:"
   ]
  },
  {
   "cell_type": "code",
   "execution_count": 10,
   "metadata": {
    "collapsed": false
   },
   "outputs": [
    {
     "data": {
      "text/plain": [
       "CELL"
      ]
     },
     "execution_count": 10,
     "metadata": {},
     "output_type": "execute_result"
    }
   ],
   "source": [
    "(defstruct cell\n",
    "    (hd nil)\n",
    "    (tl nil))"
   ]
  },
  {
   "cell_type": "markdown",
   "metadata": {},
   "source": [
    "So a strict cell has two slots : a computed head `hd` and a strict tail `tl`.\n",
    "\n",
    "And much of what is already done for lisp can be done based on this simple structure."
   ]
  },
  {
   "cell_type": "code",
   "execution_count": 11,
   "metadata": {
    "collapsed": false
   },
   "outputs": [
    {
     "data": {
      "text/plain": [
       "CCONS"
      ]
     },
     "execution_count": 11,
     "metadata": {},
     "output_type": "execute_result"
    }
   ],
   "source": [
    "(defun ccons (hd tl)\n",
    "    (make-cell :hd hd :tl tl))"
   ]
  },
  {
   "cell_type": "code",
   "execution_count": 12,
   "metadata": {
    "collapsed": false
   },
   "outputs": [
    {
     "data": {
      "text/plain": [
       "#<STANDARD-METHOD CL-JUPYTER-USER::HEAD (CELL) {1007EF5333}>"
      ]
     },
     "execution_count": 12,
     "metadata": {},
     "output_type": "execute_result"
    }
   ],
   "source": [
    "(defmethod head ((c cell))\n",
    "    (cell-hd c)))"
   ]
  },
  {
   "cell_type": "code",
   "execution_count": 13,
   "metadata": {
    "collapsed": false
   },
   "outputs": [
    {
     "data": {
      "text/plain": [
       "#<STANDARD-METHOD CL-JUPYTER-USER::TAIL (CELL) {1007FC6F73}>"
      ]
     },
     "execution_count": 13,
     "metadata": {},
     "output_type": "execute_result"
    }
   ],
   "source": [
    "(defmethod tail ((c cell))\n",
    "    (cell-tl c))"
   ]
  },
  {
   "cell_type": "code",
   "execution_count": 14,
   "metadata": {
    "collapsed": false
   },
   "outputs": [
    {
     "data": {
      "text/plain": [
       "#<STANDARD-METHOD CL-JUPYTER-USER::PRINT-CELL (CELL T) {10080FFA53}>"
      ]
     },
     "execution_count": 14,
     "metadata": {},
     "output_type": "execute_result"
    }
   ],
   "source": [
    "(defmethod print-cell ((c cell) out)\n",
    "    (format out \"~A\" (cell-hd c))\n",
    "    (when (cell-tl c)\n",
    "        (format out \" \")\n",
    "        (print-cell (cell-tl c) out))))"
   ]
  },
  {
   "cell_type": "code",
   "execution_count": 18,
   "metadata": {
    "collapsed": false
   },
   "outputs": [
    {
     "name": "stderr",
     "output_type": "stream",
     "text": [
      "REDEFINITION-WITH-DEFMETHOD: \n",
      "  #<SB-KERNEL:REDEFINITION-WITH-DEFMETHOD {100855E433}>\n"
     ]
    },
    {
     "data": {
      "text/plain": [
       "#<STANDARD-METHOD COMMON-LISP:PRINT-OBJECT (CELL T) {10085611A3}>"
      ]
     },
     "execution_count": 18,
     "metadata": {},
     "output_type": "execute_result"
    }
   ],
   "source": [
    "(defmethod print-object ((c cell) out)\n",
    "    (format out \"#<strict:\")\n",
    "    (print-cell c out)\n",
    "    (format out \">\"))"
   ]
  },
  {
   "cell_type": "code",
   "execution_count": 19,
   "metadata": {
    "collapsed": false
   },
   "outputs": [
    {
     "data": {
      "text/plain": [
       "S1"
      ]
     },
     "execution_count": 19,
     "metadata": {},
     "output_type": "execute_result"
    }
   ],
   "source": [
    "(defparameter s1 (ccons 1 (ccons 2 (ccons 3 nil))))"
   ]
  },
  {
   "cell_type": "code",
   "execution_count": 20,
   "metadata": {
    "collapsed": false
   },
   "outputs": [
    {
     "data": {
      "text/plain": [
       "#<strict:1 2 3>"
      ]
     },
     "execution_count": 20,
     "metadata": {},
     "output_type": "execute_result"
    }
   ],
   "source": [
    "s1"
   ]
  },
  {
   "cell_type": "code",
   "execution_count": 21,
   "metadata": {
    "collapsed": false
   },
   "outputs": [
    {
     "data": {
      "text/plain": [
       "1"
      ]
     },
     "execution_count": 21,
     "metadata": {},
     "output_type": "execute_result"
    }
   ],
   "source": [
    "(head s1)"
   ]
  },
  {
   "cell_type": "code",
   "execution_count": 22,
   "metadata": {
    "collapsed": false
   },
   "outputs": [
    {
     "data": {
      "text/plain": [
       "#<strict:2 3>"
      ]
     },
     "execution_count": 22,
     "metadata": {},
     "output_type": "execute_result"
    }
   ],
   "source": [
    "(tail s1)"
   ]
  },
  {
   "cell_type": "markdown",
   "metadata": {},
   "source": [
    "We will stop *right now* to reimplement a list-like datastructure in Lisp: there's something disturbing about the whole exercise!"
   ]
  },
  {
   "cell_type": "markdown",
   "metadata": {},
   "source": [
    "## Lazy sequences in Lisp\n",
    "\n",
    "We are now in a position of updating our strict cells to make them lazier."
   ]
  },
  {
   "cell_type": "code",
   "execution_count": 23,
   "metadata": {
    "collapsed": false
   },
   "outputs": [
    {
     "data": {
      "text/plain": [
       "LAZY-CELL"
      ]
     },
     "execution_count": 23,
     "metadata": {},
     "output_type": "execute_result"
    }
   ],
   "source": [
    "(defstruct (lazy-cell (:include cell))\n",
    "    (genfn nil))"
   ]
  },
  {
   "cell_type": "markdown",
   "metadata": {},
   "source": [
    "A *lazy cell* is a specific kind of cell with too possible states:\n",
    "\n",
    "  - either it is *computed*, in which case the `genfn` slot is `nil` and its `hd` and `tl` slots (included from the `cell` structure) are directly accessible\n",
    "  \n",
    "  - or it is *not yet computed* in which case both the `hd` and `tl` slots are `nil`, and the `genfn` slot contains a *generator function*.\n",
    "  \n",
    "Initially a lazy cell must be in the *not yet computed* state, that's the whole point of laziness !\n",
    "\n",
    "Before asking for a head or tail, it is necessary to switch to the *computed* state, which happens thanks to the following function."
   ]
  },
  {
   "cell_type": "code",
   "execution_count": 24,
   "metadata": {
    "collapsed": false
   },
   "outputs": [
    {
     "data": {
      "text/plain": [
       "COMPUTE-LAZY-CELL"
      ]
     },
     "execution_count": 24,
     "metadata": {},
     "output_type": "execute_result"
    }
   ],
   "source": [
    "(defun compute-lazy-cell (c)\n",
    "  (let ((val (funcall (lazy-cell-genfn c))))\n",
    "    (setf (lazy-cell-hd c) (head val))\n",
    "    (setf (lazy-cell-tl c) (tail val))\n",
    "    (setf (lazy-cell-genfn c) nil)))"
   ]
  },
  {
   "cell_type": "markdown",
   "metadata": {},
   "source": [
    "An important requirement is that the function above may only be called in the *not yet computed* state. The generator function is then called, which produce a value resulting from the cell computation. The state change is indicated by setting the `genfn` slot to nil.\n",
    "\n",
    "The computation itself results in ... a sequence composed of a head and a tail. In many case we will have a cons pair (hence a kind of sequence) but it can be any kind of sequence distinct (of course distinct from the cell we are working on). For truely lazy sequences, the *head* should be a computed value, and the tail should be either empty or a (distinct) lazy cell. We will see how to fulfill these requirements below. For now, let's just remember that the extracted informations is stored in the two slots `hd` and `tl`.\n",
    "\n",
    "Now we can define the head and tail methods in a straightforward way."
   ]
  },
  {
   "cell_type": "code",
   "execution_count": 25,
   "metadata": {
    "collapsed": false
   },
   "outputs": [
    {
     "data": {
      "text/plain": [
       "#<STANDARD-METHOD CL-JUPYTER-USER::HEAD (LAZY-CELL) {10054C5CD3}>"
      ]
     },
     "execution_count": 25,
     "metadata": {},
     "output_type": "execute_result"
    }
   ],
   "source": [
    "(defmethod head ((c lazy-cell))\n",
    "  (when (lazy-cell-genfn c)\n",
    "    (compute-lazy-cell c))\n",
    "  (lazy-cell-hd c))"
   ]
  },
  {
   "cell_type": "code",
   "execution_count": 26,
   "metadata": {
    "collapsed": false
   },
   "outputs": [
    {
     "data": {
      "text/plain": [
       "#<STANDARD-METHOD CL-JUPYTER-USER::TAIL (LAZY-CELL) {10055A14D3}>"
      ]
     },
     "execution_count": 26,
     "metadata": {},
     "output_type": "execute_result"
    }
   ],
   "source": [
    "(defmethod tail ((c lazy-cell))\n",
    "  (when (lazy-cell-genfn c)\n",
    "    (compute-lazy-cell c))\n",
    "  (lazy-cell-tl c))"
   ]
  },
  {
   "cell_type": "markdown",
   "metadata": {},
   "source": [
    "In both cases the first step is to check wether we are in the *computed state* (i.e. `genfn` is `nil`) or not. If not, the `compute-lazy-cell` function is called, and then the value of the `hd` (resp. `tl`) slot is returned."
   ]
  },
  {
   "cell_type": "markdown",
   "metadata": {},
   "source": [
    "And that is about all we need for manipulating lazy sequences !"
   ]
  },
  {
   "cell_type": "code",
   "execution_count": 36,
   "metadata": {
    "collapsed": false
   },
   "outputs": [
    {
     "name": "stderr",
     "output_type": "stream",
     "text": [
      "REDEFINITION-WITH-DEFMETHOD: \n",
      "  #<SB-KERNEL:REDEFINITION-WITH-DEFMETHOD {10060931B3}>\n"
     ]
    },
    {
     "data": {
      "text/plain": [
       "#<STANDARD-METHOD CL-JUPYTER-USER::PRINT-CELL (LAZY-CELL T) {10060943C3}>"
      ]
     },
     "execution_count": 36,
     "metadata": {},
     "output_type": "execute_result"
    }
   ],
   "source": [
    "(defmethod print-cell ((c lazy-cell) out)\n",
    "    (if (lazy-cell-genfn c)\n",
    "        (format out \"?\")\n",
    "        (progn \n",
    "          (format out \"~A\" (lazy-cell-hd c))\n",
    "          (when (lazy-cell-tl c)\n",
    "              (format out \" \")\n",
    "              (print-cell (lazy-cell-tl c) out)))))\n",
    "          \n",
    "            "
   ]
  },
  {
   "cell_type": "code",
   "execution_count": 37,
   "metadata": {
    "collapsed": false
   },
   "outputs": [
    {
     "name": "stderr",
     "output_type": "stream",
     "text": [
      "REDEFINITION-WITH-DEFMETHOD: \n",
      "  #<SB-KERNEL:REDEFINITION-WITH-DEFMETHOD {10061DA3B3}>\n"
     ]
    },
    {
     "data": {
      "text/plain": [
       "#<STANDARD-METHOD COMMON-LISP:PRINT-OBJECT (CELL T) {10061DCA83}>"
      ]
     },
     "execution_count": 37,
     "metadata": {},
     "output_type": "execute_result"
    }
   ],
   "source": [
    "(defmethod print-object ((c cell) out)\n",
    "    (format out \"#<lazy:\")\n",
    "    (print-cell c out)\n",
    "    (format out \">\"))"
   ]
  },
  {
   "cell_type": "markdown",
   "metadata": {},
   "source": [
    "## Constructing lazy sequences\n",
    "\n",
    "In order to construct lazy sequences, we can define a lazy variant of `cons`."
   ]
  },
  {
   "cell_type": "code",
   "execution_count": 49,
   "metadata": {
    "collapsed": false
   },
   "outputs": [
    {
     "name": "stderr",
     "output_type": "stream",
     "text": [
      "REDEFINITION-WITH-DEFMACRO: \n",
      "  #<SB-KERNEL:REDEFINITION-WITH-DEFMACRO {1006B42D13}>\n"
     ]
    },
    {
     "data": {
      "text/plain": [
       "LAZY-CONS"
      ]
     },
     "execution_count": 49,
     "metadata": {},
     "output_type": "execute_result"
    }
   ],
   "source": [
    "(defmacro lazy-cons (hd tl)\n",
    "    `(make-lazy-cell :hd nil :tl nil :genfn (lambda () (cons ,hd ,tl))))"
   ]
  },
  {
   "cell_type": "markdown",
   "metadata": {},
   "source": [
    "Note that we *have to* define it as a macro, otherwise we would compute both the `hd` and `tl` parameters ! The `(lambda () ..)` used as a generator function is used to delay the computation of the head and tail. Hence, of course, strict sequences are required to implement the lazy ones (we could have used `cell`s also but let's use lists everywhere they work).\n",
    "\n",
    "### Constructing a finie sequence\n",
    "\n",
    "Any finite sequence should be constructible in a lazy way, so let's try."
   ]
  },
  {
   "cell_type": "code",
   "execution_count": 60,
   "metadata": {
    "collapsed": false
   },
   "outputs": [
    {
     "data": {
      "text/plain": [
       "LS1"
      ]
     },
     "execution_count": 60,
     "metadata": {},
     "output_type": "execute_result"
    }
   ],
   "source": [
    "(defparameter ls1 (lazy-cons (+ 1 0) (lazy-cons (+ 1 1) (lazy-cons (+ 1 2) nil))))"
   ]
  },
  {
   "cell_type": "code",
   "execution_count": 61,
   "metadata": {
    "collapsed": false
   },
   "outputs": [
    {
     "data": {
      "text/plain": [
       "#<lazy:?>"
      ]
     },
     "execution_count": 61,
     "metadata": {},
     "output_type": "execute_result"
    }
   ],
   "source": [
    "LS1"
   ]
  },
  {
   "cell_type": "markdown",
   "metadata": {},
   "source": [
    "The output above confirms that nothing has been computed yet. The question mark marks (pun intended!) the *not yet computed* part of the sequence (everything, for now). Of course, taking either the head or the tail of the lazy sequence will trigger some computation."
   ]
  },
  {
   "cell_type": "code",
   "execution_count": 64,
   "metadata": {
    "collapsed": false
   },
   "outputs": [
    {
     "data": {
      "text/plain": [
       "1"
      ]
     },
     "execution_count": 64,
     "metadata": {},
     "output_type": "execute_result"
    }
   ],
   "source": [
    "(head ls1)"
   ]
  },
  {
   "cell_type": "markdown",
   "metadata": {},
   "source": [
    "The computed value of the head is 1 as expected, and we can see the *effect* on the sequence itself."
   ]
  },
  {
   "cell_type": "code",
   "execution_count": 65,
   "metadata": {
    "collapsed": false
   },
   "outputs": [
    {
     "data": {
      "text/plain": [
       "#<lazy:1 ?>"
      ]
     },
     "execution_count": 65,
     "metadata": {},
     "output_type": "execute_result"
    }
   ],
   "source": [
    "ls1"
   ]
  },
  {
   "cell_type": "markdown",
   "metadata": {},
   "source": [
    "The computed part of the sequence now comprises the first element. Of course, we can dig a little deeper."
   ]
  },
  {
   "cell_type": "code",
   "execution_count": 66,
   "metadata": {
    "collapsed": false
   },
   "outputs": [
    {
     "data": {
      "text/plain": [
       "2"
      ]
     },
     "execution_count": 66,
     "metadata": {},
     "output_type": "execute_result"
    }
   ],
   "source": [
    "(head (tail ls1))"
   ]
  },
  {
   "cell_type": "code",
   "execution_count": 67,
   "metadata": {
    "collapsed": false
   },
   "outputs": [
    {
     "data": {
      "text/plain": [
       "#<lazy:1 2 ?>"
      ]
     },
     "execution_count": 67,
     "metadata": {},
     "output_type": "execute_result"
    }
   ],
   "source": [
    "ls1"
   ]
  },
  {
   "cell_type": "markdown",
   "metadata": {},
   "source": [
    "To make the sequence fully computed, we need to dig a little deeper."
   ]
  },
  {
   "cell_type": "code",
   "execution_count": 68,
   "metadata": {
    "collapsed": false
   },
   "outputs": [
    {
     "data": {
      "text/plain": [
       "NIL"
      ]
     },
     "execution_count": 68,
     "metadata": {},
     "output_type": "execute_result"
    }
   ],
   "source": [
    "(tail (tail (tail ls1)))"
   ]
  },
  {
   "cell_type": "code",
   "execution_count": 69,
   "metadata": {
    "collapsed": false
   },
   "outputs": [
    {
     "data": {
      "text/plain": [
       "#<lazy:1 2 3>"
      ]
     },
     "execution_count": 69,
     "metadata": {},
     "output_type": "execute_result"
    }
   ],
   "source": [
    "ls1"
   ]
  },
  {
   "cell_type": "markdown",
   "metadata": {},
   "source": [
    "Note that the list is still considered *lazy* but it is in computed state now so there's no computation to delay anymore.\n",
    "\n",
    "One important take away of the previous example is that laziness can only obtained through side effects, however very controlled (and overally \"safe\") ones."
   ]
  },
  {
   "cell_type": "markdown",
   "metadata": {},
   "source": [
    "### Constructing an \"infinite\" sequence\n",
    "\n",
    "Once computed a sequence must of course be finite, but the lazy sequence abstraction allows to define *intentionally inifinite* sequences. A good example is the sequence of natural numbers. Let's try a definition using the `lazy-cons` macro."
   ]
  },
  {
   "cell_type": "code",
   "execution_count": 70,
   "metadata": {
    "collapsed": false
   },
   "outputs": [
    {
     "data": {
      "text/plain": [
       "NATS"
      ]
     },
     "execution_count": 70,
     "metadata": {},
     "output_type": "execute_result"
    }
   ],
   "source": [
    "(defun nats (&optional (n 0))\n",
    "    (lazy-cons n (nats (1+ n))))"
   ]
  },
  {
   "cell_type": "code",
   "execution_count": 72,
   "metadata": {
    "collapsed": false
   },
   "outputs": [
    {
     "data": {
      "text/plain": [
       "LS2"
      ]
     },
     "execution_count": 72,
     "metadata": {},
     "output_type": "execute_result"
    }
   ],
   "source": [
    "(defparameter ls2 (nats))"
   ]
  },
  {
   "cell_type": "code",
   "execution_count": 73,
   "metadata": {
    "collapsed": false
   },
   "outputs": [
    {
     "data": {
      "text/plain": [
       "#<lazy:?>"
      ]
     },
     "execution_count": 73,
     "metadata": {},
     "output_type": "execute_result"
    }
   ],
   "source": [
    "LS2"
   ]
  },
  {
   "cell_type": "code",
   "execution_count": 74,
   "metadata": {
    "collapsed": false
   },
   "outputs": [
    {
     "data": {
      "text/plain": [
       "0"
      ]
     },
     "execution_count": 74,
     "metadata": {},
     "output_type": "execute_result"
    }
   ],
   "source": [
    "(head ls2)"
   ]
  },
  {
   "cell_type": "code",
   "execution_count": 75,
   "metadata": {
    "collapsed": false
   },
   "outputs": [
    {
     "data": {
      "text/plain": [
       "1"
      ]
     },
     "execution_count": 75,
     "metadata": {},
     "output_type": "execute_result"
    }
   ],
   "source": [
    "(head (tail ls2))"
   ]
  },
  {
   "cell_type": "code",
   "execution_count": 76,
   "metadata": {
    "collapsed": false
   },
   "outputs": [
    {
     "data": {
      "text/plain": [
       "2"
      ]
     },
     "execution_count": 76,
     "metadata": {},
     "output_type": "execute_result"
    }
   ],
   "source": [
    "(head (tail (tail ls2)))"
   ]
  },
  {
   "cell_type": "code",
   "execution_count": 77,
   "metadata": {
    "collapsed": false
   },
   "outputs": [
    {
     "data": {
      "text/plain": [
       "#<lazy:0 1 2 ?>"
      ]
     },
     "execution_count": 77,
     "metadata": {},
     "output_type": "execute_result"
    }
   ],
   "source": [
    "ls2"
   ]
  },
  {
   "cell_type": "markdown",
   "metadata": {},
   "source": [
    "In this state, only the finite prefix `0 1 2` of the lazy sequence has been computed. To dig deeper, we can start to implement some utility functions.\n",
    "\n",
    "The first one consists in taking a finite prefix of the sequence, materializing it (of course!) as a list."
   ]
  },
  {
   "cell_type": "code",
   "execution_count": 78,
   "metadata": {
    "collapsed": false
   },
   "outputs": [
    {
     "name": "stderr",
     "output_type": "stream",
     "text": [
      "SIMPLE-STYLE-WARNING: \n",
      "  #<SB-INT:SIMPLE-STYLE-WARNING \"The variable ~S is defined but never used.\" {1007A4C823}>\n",
      "\n",
      "SIMPLE-STYLE-WARNING: \n",
      "  #<SB-INT:SIMPLE-STYLE-WARNING \"The variable ~S is defined but never used.\" {1007A4D083}>\n"
     ]
    },
    {
     "data": {
      "text/plain": [
       "TAKE"
      ]
     },
     "execution_count": 78,
     "metadata": {},
     "output_type": "execute_result"
    }
   ],
   "source": [
    "(defun take (n s)\n",
    "    \"Returns the list of the `n` first elements of the sequence `s`.\"\n",
    "    :TODO)"
   ]
  },
  {
   "cell_type": "code",
   "execution_count": null,
   "metadata": {
    "collapsed": true
   },
   "outputs": [],
   "source": []
  }
 ],
 "metadata": {
  "kernelspec": {
   "display_name": "SBCL Lisp",
   "language": "lisp",
   "name": "lisp"
  },
  "language_info": {
   "codemirror_mode": "text/x-common-lisp",
   "mimetype": "text/x-common-lisp",
   "name": "common-lisp",
   "pygments_lexer": "common-lisp",
   "version": "X3J13"
  }
 },
 "nbformat": 4,
 "nbformat_minor": 0
}
